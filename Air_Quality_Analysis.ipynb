{
 "cells": [
  {
   "cell_type": "code",
   "execution_count": 1,
   "id": "e5d91a28",
   "metadata": {},
   "outputs": [],
   "source": [
    "import pandas as pd\n",
    "import seaborn as sns\n",
    "import numpy as np\n",
    "import matplotlib.pyplot as plt"
   ]
  },
  {
   "cell_type": "code",
   "execution_count": 2,
   "id": "24cb2ff5",
   "metadata": {},
   "outputs": [
    {
     "data": {
      "text/html": [
       "<div>\n",
       "<style scoped>\n",
       "    .dataframe tbody tr th:only-of-type {\n",
       "        vertical-align: middle;\n",
       "    }\n",
       "\n",
       "    .dataframe tbody tr th {\n",
       "        vertical-align: top;\n",
       "    }\n",
       "\n",
       "    .dataframe thead th {\n",
       "        text-align: right;\n",
       "    }\n",
       "</style>\n",
       "<table border=\"1\" class=\"dataframe\">\n",
       "  <thead>\n",
       "    <tr style=\"text-align: right;\">\n",
       "      <th></th>\n",
       "      <th>Id</th>\n",
       "      <th>Mounths</th>\n",
       "      <th>PM10 in æg/m3</th>\n",
       "      <th>SO2 in æg/m3</th>\n",
       "      <th>NOx  in æg/m3</th>\n",
       "      <th>PM2.5  in æg/m3</th>\n",
       "      <th>Ammonia - NH3  in æg/m3</th>\n",
       "      <th>O3   in æg/m3</th>\n",
       "      <th>CO  in mg/m3</th>\n",
       "      <th>Benzene  in æg/m3</th>\n",
       "      <th>AQI</th>\n",
       "    </tr>\n",
       "  </thead>\n",
       "  <tbody>\n",
       "    <tr>\n",
       "      <th>0</th>\n",
       "      <td>1</td>\n",
       "      <td>Jan-17</td>\n",
       "      <td>174.0</td>\n",
       "      <td>26.4</td>\n",
       "      <td>35.0</td>\n",
       "      <td>79</td>\n",
       "      <td>25.0</td>\n",
       "      <td>107.6</td>\n",
       "      <td>0.9</td>\n",
       "      <td>0.7</td>\n",
       "      <td>149.0</td>\n",
       "    </tr>\n",
       "    <tr>\n",
       "      <th>1</th>\n",
       "      <td>2</td>\n",
       "      <td>Feb-17</td>\n",
       "      <td>143.0</td>\n",
       "      <td>35.1</td>\n",
       "      <td>40.3</td>\n",
       "      <td>75</td>\n",
       "      <td>31.0</td>\n",
       "      <td>103.0</td>\n",
       "      <td>0.9</td>\n",
       "      <td>0.9</td>\n",
       "      <td>129.0</td>\n",
       "    </tr>\n",
       "    <tr>\n",
       "      <th>2</th>\n",
       "      <td>3</td>\n",
       "      <td>Mar-17</td>\n",
       "      <td>142.0</td>\n",
       "      <td>32.1</td>\n",
       "      <td>30.9</td>\n",
       "      <td>59</td>\n",
       "      <td>26.0</td>\n",
       "      <td>80.7</td>\n",
       "      <td>0.8</td>\n",
       "      <td>0.5</td>\n",
       "      <td>128.0</td>\n",
       "    </tr>\n",
       "    <tr>\n",
       "      <th>3</th>\n",
       "      <td>4</td>\n",
       "      <td>Apr-17</td>\n",
       "      <td>117.0</td>\n",
       "      <td>50.9</td>\n",
       "      <td>36.3</td>\n",
       "      <td>75</td>\n",
       "      <td>36.0</td>\n",
       "      <td>79.5</td>\n",
       "      <td>0.9</td>\n",
       "      <td>0.7</td>\n",
       "      <td>111.0</td>\n",
       "    </tr>\n",
       "    <tr>\n",
       "      <th>4</th>\n",
       "      <td>5</td>\n",
       "      <td>May-17</td>\n",
       "      <td>NaN</td>\n",
       "      <td>41.6</td>\n",
       "      <td>25.2</td>\n",
       "      <td>53</td>\n",
       "      <td>28.0</td>\n",
       "      <td>70.0</td>\n",
       "      <td>0.5</td>\n",
       "      <td>0.5</td>\n",
       "      <td>NaN</td>\n",
       "    </tr>\n",
       "  </tbody>\n",
       "</table>\n",
       "</div>"
      ],
      "text/plain": [
       "   Id Mounths  PM10 in æg/m3  SO2 in æg/m3  NOx  in æg/m3   PM2.5  in æg/m3  \\\n",
       "0   1  Jan-17          174.0          26.4           35.0                79   \n",
       "1   2  Feb-17          143.0          35.1           40.3                75   \n",
       "2   3  Mar-17          142.0          32.1           30.9                59   \n",
       "3   4  Apr-17          117.0          50.9           36.3                75   \n",
       "4   5  May-17            NaN          41.6           25.2                53   \n",
       "\n",
       "   Ammonia - NH3  in æg/m3  O3   in æg/m3  CO  in mg/m3   Benzene  in æg/m3  \\\n",
       "0                     25.0          107.6           0.9                 0.7   \n",
       "1                     31.0          103.0           0.9                 0.9   \n",
       "2                     26.0           80.7           0.8                 0.5   \n",
       "3                     36.0           79.5           0.9                 0.7   \n",
       "4                     28.0           70.0           0.5                 0.5   \n",
       "\n",
       "     AQI  \n",
       "0  149.0  \n",
       "1  129.0  \n",
       "2  128.0  \n",
       "3  111.0  \n",
       "4    NaN  "
      ]
     },
     "execution_count": 2,
     "metadata": {},
     "output_type": "execute_result"
    }
   ],
   "source": [
    "df=pd.read_csv(\"AQI Data Set.csv\")\n",
    "df.head()"
   ]
  },
  {
   "cell_type": "code",
   "execution_count": 3,
   "id": "ca207e3b",
   "metadata": {},
   "outputs": [
    {
     "name": "stdout",
     "output_type": "stream",
     "text": [
      "<class 'pandas.core.frame.DataFrame'>\n",
      "RangeIndex: 72 entries, 0 to 71\n",
      "Data columns (total 11 columns):\n",
      " #   Column                   Non-Null Count  Dtype  \n",
      "---  ------                   --------------  -----  \n",
      " 0   Id                       72 non-null     int64  \n",
      " 1   Mounths                  72 non-null     object \n",
      " 2   PM10 in æg/m3            66 non-null     float64\n",
      " 3   SO2 in æg/m3             71 non-null     float64\n",
      " 4   NOx  in æg/m3            70 non-null     float64\n",
      " 5    PM2.5  in æg/m3         72 non-null     int64  \n",
      " 6   Ammonia - NH3  in æg/m3  72 non-null     float64\n",
      " 7   O3   in æg/m3            72 non-null     float64\n",
      " 8   CO  in mg/m3             72 non-null     float64\n",
      " 9    Benzene  in æg/m3       72 non-null     float64\n",
      " 10  AQI                      67 non-null     float64\n",
      "dtypes: float64(8), int64(2), object(1)\n",
      "memory usage: 6.3+ KB\n"
     ]
    }
   ],
   "source": [
    "df.info()"
   ]
  },
  {
   "cell_type": "code",
   "execution_count": 4,
   "id": "5c5357b3",
   "metadata": {},
   "outputs": [
    {
     "data": {
      "text/html": [
       "<div>\n",
       "<style scoped>\n",
       "    .dataframe tbody tr th:only-of-type {\n",
       "        vertical-align: middle;\n",
       "    }\n",
       "\n",
       "    .dataframe tbody tr th {\n",
       "        vertical-align: top;\n",
       "    }\n",
       "\n",
       "    .dataframe thead th {\n",
       "        text-align: right;\n",
       "    }\n",
       "</style>\n",
       "<table border=\"1\" class=\"dataframe\">\n",
       "  <thead>\n",
       "    <tr style=\"text-align: right;\">\n",
       "      <th></th>\n",
       "      <th>Id</th>\n",
       "      <th>PM10 in æg/m3</th>\n",
       "      <th>SO2 in æg/m3</th>\n",
       "      <th>NOx  in æg/m3</th>\n",
       "      <th>PM2.5  in æg/m3</th>\n",
       "      <th>Ammonia - NH3  in æg/m3</th>\n",
       "      <th>O3   in æg/m3</th>\n",
       "      <th>CO  in mg/m3</th>\n",
       "      <th>Benzene  in æg/m3</th>\n",
       "      <th>AQI</th>\n",
       "    </tr>\n",
       "  </thead>\n",
       "  <tbody>\n",
       "    <tr>\n",
       "      <th>count</th>\n",
       "      <td>72.00000</td>\n",
       "      <td>66.000000</td>\n",
       "      <td>71.000000</td>\n",
       "      <td>70.000000</td>\n",
       "      <td>72.000000</td>\n",
       "      <td>72.000000</td>\n",
       "      <td>72.000000</td>\n",
       "      <td>72.000000</td>\n",
       "      <td>72.00000</td>\n",
       "      <td>67.000000</td>\n",
       "    </tr>\n",
       "    <tr>\n",
       "      <th>mean</th>\n",
       "      <td>36.50000</td>\n",
       "      <td>109.393939</td>\n",
       "      <td>16.650704</td>\n",
       "      <td>30.171429</td>\n",
       "      <td>46.722222</td>\n",
       "      <td>23.997222</td>\n",
       "      <td>27.790278</td>\n",
       "      <td>0.549722</td>\n",
       "      <td>0.22500</td>\n",
       "      <td>105.571642</td>\n",
       "    </tr>\n",
       "    <tr>\n",
       "      <th>std</th>\n",
       "      <td>20.92845</td>\n",
       "      <td>25.271376</td>\n",
       "      <td>9.783746</td>\n",
       "      <td>4.150088</td>\n",
       "      <td>20.224251</td>\n",
       "      <td>5.824450</td>\n",
       "      <td>22.585906</td>\n",
       "      <td>0.238764</td>\n",
       "      <td>0.19307</td>\n",
       "      <td>22.762574</td>\n",
       "    </tr>\n",
       "    <tr>\n",
       "      <th>min</th>\n",
       "      <td>1.00000</td>\n",
       "      <td>76.000000</td>\n",
       "      <td>4.000000</td>\n",
       "      <td>18.400000</td>\n",
       "      <td>12.000000</td>\n",
       "      <td>11.000000</td>\n",
       "      <td>2.400000</td>\n",
       "      <td>0.200000</td>\n",
       "      <td>0.00000</td>\n",
       "      <td>58.000000</td>\n",
       "    </tr>\n",
       "    <tr>\n",
       "      <th>25%</th>\n",
       "      <td>18.75000</td>\n",
       "      <td>90.000000</td>\n",
       "      <td>9.900000</td>\n",
       "      <td>28.025000</td>\n",
       "      <td>27.000000</td>\n",
       "      <td>20.000000</td>\n",
       "      <td>12.475000</td>\n",
       "      <td>0.400000</td>\n",
       "      <td>0.10000</td>\n",
       "      <td>91.300000</td>\n",
       "    </tr>\n",
       "    <tr>\n",
       "      <th>50%</th>\n",
       "      <td>36.50000</td>\n",
       "      <td>104.000000</td>\n",
       "      <td>14.000000</td>\n",
       "      <td>29.700000</td>\n",
       "      <td>47.000000</td>\n",
       "      <td>23.000000</td>\n",
       "      <td>20.750000</td>\n",
       "      <td>0.500000</td>\n",
       "      <td>0.20000</td>\n",
       "      <td>103.500000</td>\n",
       "    </tr>\n",
       "    <tr>\n",
       "      <th>75%</th>\n",
       "      <td>54.25000</td>\n",
       "      <td>128.000000</td>\n",
       "      <td>19.200000</td>\n",
       "      <td>32.550000</td>\n",
       "      <td>63.000000</td>\n",
       "      <td>28.000000</td>\n",
       "      <td>35.550000</td>\n",
       "      <td>0.647500</td>\n",
       "      <td>0.30000</td>\n",
       "      <td>119.500000</td>\n",
       "    </tr>\n",
       "    <tr>\n",
       "      <th>max</th>\n",
       "      <td>72.00000</td>\n",
       "      <td>178.000000</td>\n",
       "      <td>50.900000</td>\n",
       "      <td>40.300000</td>\n",
       "      <td>87.000000</td>\n",
       "      <td>37.000000</td>\n",
       "      <td>107.600000</td>\n",
       "      <td>1.520000</td>\n",
       "      <td>0.90000</td>\n",
       "      <td>166.000000</td>\n",
       "    </tr>\n",
       "  </tbody>\n",
       "</table>\n",
       "</div>"
      ],
      "text/plain": [
       "             Id  PM10 in æg/m3  SO2 in æg/m3  NOx  in æg/m3   PM2.5  in æg/m3  \\\n",
       "count  72.00000      66.000000     71.000000      70.000000         72.000000   \n",
       "mean   36.50000     109.393939     16.650704      30.171429         46.722222   \n",
       "std    20.92845      25.271376      9.783746       4.150088         20.224251   \n",
       "min     1.00000      76.000000      4.000000      18.400000         12.000000   \n",
       "25%    18.75000      90.000000      9.900000      28.025000         27.000000   \n",
       "50%    36.50000     104.000000     14.000000      29.700000         47.000000   \n",
       "75%    54.25000     128.000000     19.200000      32.550000         63.000000   \n",
       "max    72.00000     178.000000     50.900000      40.300000         87.000000   \n",
       "\n",
       "       Ammonia - NH3  in æg/m3  O3   in æg/m3  CO  in mg/m3  \\\n",
       "count                72.000000      72.000000     72.000000   \n",
       "mean                 23.997222      27.790278      0.549722   \n",
       "std                   5.824450      22.585906      0.238764   \n",
       "min                  11.000000       2.400000      0.200000   \n",
       "25%                  20.000000      12.475000      0.400000   \n",
       "50%                  23.000000      20.750000      0.500000   \n",
       "75%                  28.000000      35.550000      0.647500   \n",
       "max                  37.000000     107.600000      1.520000   \n",
       "\n",
       "        Benzene  in æg/m3         AQI  \n",
       "count            72.00000   67.000000  \n",
       "mean              0.22500  105.571642  \n",
       "std               0.19307   22.762574  \n",
       "min               0.00000   58.000000  \n",
       "25%               0.10000   91.300000  \n",
       "50%               0.20000  103.500000  \n",
       "75%               0.30000  119.500000  \n",
       "max               0.90000  166.000000  "
      ]
     },
     "execution_count": 4,
     "metadata": {},
     "output_type": "execute_result"
    }
   ],
   "source": [
    "df.describe()"
   ]
  },
  {
   "cell_type": "code",
   "execution_count": 5,
   "id": "6d37e9dc",
   "metadata": {},
   "outputs": [
    {
     "data": {
      "text/plain": [
       "(72, 11)"
      ]
     },
     "execution_count": 5,
     "metadata": {},
     "output_type": "execute_result"
    }
   ],
   "source": [
    "df.shape"
   ]
  },
  {
   "cell_type": "code",
   "execution_count": 6,
   "id": "2a3ced58",
   "metadata": {},
   "outputs": [
    {
     "data": {
      "text/plain": [
       "array(['Jan-17', 'Feb-17', 'Mar-17', 'Apr-17', 'May-17', 'Jun-17',\n",
       "       'Jul-17', 'Aug-17', 'Sep-17', 'Oct-17', 'Nov-17', 'Dec-17',\n",
       "       'Jan-18', 'Feb-18', 'Mar-18', 'Apr-18', 'May-18', 'Jun-18',\n",
       "       'Jul-18', 'Aug-18', 'Sep-18', 'Oct-18', 'Nov-18', 'Dec-18',\n",
       "       'Jan-19', 'Feb-19', 'Mar-19', 'Apr-19', 'May-19', 'Jun-19',\n",
       "       'Jul-19', 'Aug-19', 'Sep-19', 'Oct-19', 'Nov-19', 'Dec-19',\n",
       "       'Jan-20', 'Feb-20', 'Mar-20', 'Apr-20', 'May-20', 'Jun-20',\n",
       "       'Jul-20', 'Aug-20', 'Sep-20', 'Oct-20', 'Nov-20', 'Dec-20',\n",
       "       'Jan-21', 'Feb-21', 'Mar-21', 'Apr-21', 'May-21', 'Jun-21',\n",
       "       'Jul-21', 'Aug-21', 'Sep-21', 'Oct-21', 'Nov-21', 'Dec-21',\n",
       "       'Jan-22', 'Feb-22', 'Mar-22', 'Apr-22', 'May-22', 'Jun-22',\n",
       "       'Jul-22', 'Aug-22', 'Sep-22', 'Oct-22', 'Nov-22', 'Dec-22'],\n",
       "      dtype=object)"
      ]
     },
     "execution_count": 6,
     "metadata": {},
     "output_type": "execute_result"
    }
   ],
   "source": [
    "df.Mounths.unique()"
   ]
  },
  {
   "cell_type": "code",
   "execution_count": 7,
   "id": "16170d98",
   "metadata": {},
   "outputs": [],
   "source": [
    "df.drop(columns=[\"Id\",\"Mounths\"],axis=1,inplace=True)"
   ]
  },
  {
   "cell_type": "code",
   "execution_count": 8,
   "id": "a13239ae",
   "metadata": {},
   "outputs": [
    {
     "data": {
      "text/html": [
       "<div>\n",
       "<style scoped>\n",
       "    .dataframe tbody tr th:only-of-type {\n",
       "        vertical-align: middle;\n",
       "    }\n",
       "\n",
       "    .dataframe tbody tr th {\n",
       "        vertical-align: top;\n",
       "    }\n",
       "\n",
       "    .dataframe thead th {\n",
       "        text-align: right;\n",
       "    }\n",
       "</style>\n",
       "<table border=\"1\" class=\"dataframe\">\n",
       "  <thead>\n",
       "    <tr style=\"text-align: right;\">\n",
       "      <th></th>\n",
       "      <th>PM10 in æg/m3</th>\n",
       "      <th>SO2 in æg/m3</th>\n",
       "      <th>NOx  in æg/m3</th>\n",
       "      <th>PM2.5  in æg/m3</th>\n",
       "      <th>Ammonia - NH3  in æg/m3</th>\n",
       "      <th>O3   in æg/m3</th>\n",
       "      <th>CO  in mg/m3</th>\n",
       "      <th>Benzene  in æg/m3</th>\n",
       "      <th>AQI</th>\n",
       "    </tr>\n",
       "  </thead>\n",
       "  <tbody>\n",
       "    <tr>\n",
       "      <th>0</th>\n",
       "      <td>174.0</td>\n",
       "      <td>26.4</td>\n",
       "      <td>35.0</td>\n",
       "      <td>79</td>\n",
       "      <td>25.0</td>\n",
       "      <td>107.6</td>\n",
       "      <td>0.9</td>\n",
       "      <td>0.7</td>\n",
       "      <td>149.0</td>\n",
       "    </tr>\n",
       "    <tr>\n",
       "      <th>1</th>\n",
       "      <td>143.0</td>\n",
       "      <td>35.1</td>\n",
       "      <td>40.3</td>\n",
       "      <td>75</td>\n",
       "      <td>31.0</td>\n",
       "      <td>103.0</td>\n",
       "      <td>0.9</td>\n",
       "      <td>0.9</td>\n",
       "      <td>129.0</td>\n",
       "    </tr>\n",
       "    <tr>\n",
       "      <th>2</th>\n",
       "      <td>142.0</td>\n",
       "      <td>32.1</td>\n",
       "      <td>30.9</td>\n",
       "      <td>59</td>\n",
       "      <td>26.0</td>\n",
       "      <td>80.7</td>\n",
       "      <td>0.8</td>\n",
       "      <td>0.5</td>\n",
       "      <td>128.0</td>\n",
       "    </tr>\n",
       "    <tr>\n",
       "      <th>3</th>\n",
       "      <td>117.0</td>\n",
       "      <td>50.9</td>\n",
       "      <td>36.3</td>\n",
       "      <td>75</td>\n",
       "      <td>36.0</td>\n",
       "      <td>79.5</td>\n",
       "      <td>0.9</td>\n",
       "      <td>0.7</td>\n",
       "      <td>111.0</td>\n",
       "    </tr>\n",
       "    <tr>\n",
       "      <th>4</th>\n",
       "      <td>NaN</td>\n",
       "      <td>41.6</td>\n",
       "      <td>25.2</td>\n",
       "      <td>53</td>\n",
       "      <td>28.0</td>\n",
       "      <td>70.0</td>\n",
       "      <td>0.5</td>\n",
       "      <td>0.5</td>\n",
       "      <td>NaN</td>\n",
       "    </tr>\n",
       "  </tbody>\n",
       "</table>\n",
       "</div>"
      ],
      "text/plain": [
       "   PM10 in æg/m3  SO2 in æg/m3  NOx  in æg/m3   PM2.5  in æg/m3  \\\n",
       "0          174.0          26.4           35.0                79   \n",
       "1          143.0          35.1           40.3                75   \n",
       "2          142.0          32.1           30.9                59   \n",
       "3          117.0          50.9           36.3                75   \n",
       "4            NaN          41.6           25.2                53   \n",
       "\n",
       "   Ammonia - NH3  in æg/m3  O3   in æg/m3  CO  in mg/m3   Benzene  in æg/m3  \\\n",
       "0                     25.0          107.6           0.9                 0.7   \n",
       "1                     31.0          103.0           0.9                 0.9   \n",
       "2                     26.0           80.7           0.8                 0.5   \n",
       "3                     36.0           79.5           0.9                 0.7   \n",
       "4                     28.0           70.0           0.5                 0.5   \n",
       "\n",
       "     AQI  \n",
       "0  149.0  \n",
       "1  129.0  \n",
       "2  128.0  \n",
       "3  111.0  \n",
       "4    NaN  "
      ]
     },
     "execution_count": 8,
     "metadata": {},
     "output_type": "execute_result"
    }
   ],
   "source": [
    "df.head()"
   ]
  },
  {
   "cell_type": "code",
   "execution_count": 9,
   "id": "e66ef9c7",
   "metadata": {},
   "outputs": [
    {
     "data": {
      "text/plain": [
       "PM10 in æg/m3              6\n",
       "SO2 in æg/m3               1\n",
       "NOx  in æg/m3              2\n",
       " PM2.5  in æg/m3           0\n",
       "Ammonia - NH3  in æg/m3    0\n",
       "O3   in æg/m3              0\n",
       "CO  in mg/m3               0\n",
       " Benzene  in æg/m3         0\n",
       "AQI                        5\n",
       "dtype: int64"
      ]
     },
     "execution_count": 9,
     "metadata": {},
     "output_type": "execute_result"
    }
   ],
   "source": [
    "df.isnull().sum()"
   ]
  },
  {
   "cell_type": "code",
   "execution_count": 10,
   "id": "dc1c9b48",
   "metadata": {},
   "outputs": [
    {
     "name": "stderr",
     "output_type": "stream",
     "text": [
      "C:\\Users\\User\\anaconda3\\lib\\site-packages\\seaborn\\distributions.py:2557: FutureWarning: `distplot` is a deprecated function and will be removed in a future version. Please adapt your code to use either `displot` (a figure-level function with similar flexibility) or `histplot` (an axes-level function for histograms).\n",
      "  warnings.warn(msg, FutureWarning)\n"
     ]
    },
    {
     "data": {
      "text/plain": [
       "<AxesSubplot:xlabel='PM10 in æg/m3', ylabel='Density'>"
      ]
     },
     "execution_count": 10,
     "metadata": {},
     "output_type": "execute_result"
    },
    {
     "data": {
      "image/png": "[encoded data removed]",
      "text/plain": [
       "<Figure size 432x288 with 1 Axes>"
      ]
     },
     "metadata": {
      "needs_background": "light"
     },
     "output_type": "display_data"
    }
   ],
   "source": [
    "sns.distplot(df['PM10 in æg/m3'])"
   ]
  },
  {
   "cell_type": "code",
   "execution_count": 11,
   "id": "57491bb9",
   "metadata": {},
   "outputs": [
    {
     "name": "stderr",
     "output_type": "stream",
     "text": [
      "C:\\Users\\User\\anaconda3\\lib\\site-packages\\seaborn\\distributions.py:2557: FutureWarning: `distplot` is a deprecated function and will be removed in a future version. Please adapt your code to use either `displot` (a figure-level function with similar flexibility) or `histplot` (an axes-level function for histograms).\n",
      "  warnings.warn(msg, FutureWarning)\n"
     ]
    },
    {
     "data": {
      "text/plain": [
       "<AxesSubplot:xlabel='SO2 in æg/m3', ylabel='Density'>"
      ]
     },
     "execution_count": 11,
     "metadata": {},
     "output_type": "execute_result"
    },
    {
     "data": {
      "image/png": "[encoded data removed]",
      "text/plain": [
       "<Figure size 432x288 with 1 Axes>"
      ]
     },
     "metadata": {
      "needs_background": "light"
     },
     "output_type": "display_data"
    }
   ],
   "source": [
    "sns.distplot(df['SO2 in æg/m3'])"
   ]
  },
  {
   "cell_type": "code",
   "execution_count": 12,
   "id": "51c3fd3a",
   "metadata": {},
   "outputs": [
    {
     "name": "stderr",
     "output_type": "stream",
     "text": [
      "C:\\Users\\User\\anaconda3\\lib\\site-packages\\seaborn\\distributions.py:2557: FutureWarning: `distplot` is a deprecated function and will be removed in a future version. Please adapt your code to use either `displot` (a figure-level function with similar flexibility) or `histplot` (an axes-level function for histograms).\n",
      "  warnings.warn(msg, FutureWarning)\n"
     ]
    },
    {
     "data": {
      "text/plain": [
       "<AxesSubplot:xlabel='NOx  in æg/m3', ylabel='Density'>"
      ]
     },
     "execution_count": 12,
     "metadata": {},
     "output_type": "execute_result"
    },
    {
     "data": {
      "image/png": "[encoded data removed]",
      "text/plain": [
       "<Figure size 432x288 with 1 Axes>"
      ]
     },
     "metadata": {
      "needs_background": "light"
     },
     "output_type": "display_data"
    }
   ],
   "source": [
    "sns.distplot(df['NOx  in æg/m3'])"
   ]
  },
  {
   "cell_type": "code",
   "execution_count": 13,
   "id": "98253100",
   "metadata": {},
   "outputs": [
    {
     "name": "stderr",
     "output_type": "stream",
     "text": [
      "C:\\Users\\User\\anaconda3\\lib\\site-packages\\seaborn\\distributions.py:2557: FutureWarning: `distplot` is a deprecated function and will be removed in a future version. Please adapt your code to use either `displot` (a figure-level function with similar flexibility) or `histplot` (an axes-level function for histograms).\n",
      "  warnings.warn(msg, FutureWarning)\n"
     ]
    },
    {
     "data": {
      "text/plain": [
       "<AxesSubplot:xlabel='AQI', ylabel='Density'>"
      ]
     },
     "execution_count": 13,
     "metadata": {},
     "output_type": "execute_result"
    },
    {
     "data": {
      "image/png": "[encoded data removed]",
      "text/plain": [
       "<Figure size 432x288 with 1 Axes>"
      ]
     },
     "metadata": {
      "needs_background": "light"
     },
     "output_type": "display_data"
    }
   ],
   "source": [
    "sns.distplot(df['AQI'])"
   ]
  },
  {
   "cell_type": "code",
   "execution_count": 14,
   "id": "536fa272",
   "metadata": {},
   "outputs": [],
   "source": [
    "df['PM10 in æg/m3'].fillna(df['PM10 in æg/m3'].mean(),inplace=True)\n",
    "df[\"SO2 in æg/m3\"].fillna(df[\"SO2 in æg/m3\"].mean(),inplace=True)\n",
    "df[\"NOx  in æg/m3\"].fillna(df[\"NOx  in æg/m3\"].mean(),inplace=True)\n",
    "df[\"AQI\"].fillna(df[\"AQI\"].mean(),inplace=True)"
   ]
  },
  {
   "cell_type": "code",
   "execution_count": 15,
   "id": "fbb13e4d",
   "metadata": {},
   "outputs": [
    {
     "data": {
      "text/plain": [
       "PM10 in æg/m3              0\n",
       "SO2 in æg/m3               0\n",
       "NOx  in æg/m3              0\n",
       " PM2.5  in æg/m3           0\n",
       "Ammonia - NH3  in æg/m3    0\n",
       "O3   in æg/m3              0\n",
       "CO  in mg/m3               0\n",
       " Benzene  in æg/m3         0\n",
       "AQI                        0\n",
       "dtype: int64"
      ]
     },
     "execution_count": 15,
     "metadata": {},
     "output_type": "execute_result"
    }
   ],
   "source": [
    "df.isnull().sum()"
   ]
  },
  {
   "cell_type": "code",
   "execution_count": 16,
   "id": "00791db3",
   "metadata": {},
   "outputs": [
    {
     "data": {
      "text/html": [
       "<div>\n",
       "<style scoped>\n",
       "    .dataframe tbody tr th:only-of-type {\n",
       "        vertical-align: middle;\n",
       "    }\n",
       "\n",
       "    .dataframe tbody tr th {\n",
       "        vertical-align: top;\n",
       "    }\n",
       "\n",
       "    .dataframe thead th {\n",
       "        text-align: right;\n",
       "    }\n",
       "</style>\n",
       "<table border=\"1\" class=\"dataframe\">\n",
       "  <thead>\n",
       "    <tr style=\"text-align: right;\">\n",
       "      <th></th>\n",
       "      <th>PM10 in æg/m3</th>\n",
       "      <th>SO2 in æg/m3</th>\n",
       "      <th>NOx  in æg/m3</th>\n",
       "      <th>PM2.5  in æg/m3</th>\n",
       "      <th>Ammonia - NH3  in æg/m3</th>\n",
       "      <th>O3   in æg/m3</th>\n",
       "      <th>CO  in mg/m3</th>\n",
       "      <th>Benzene  in æg/m3</th>\n",
       "      <th>AQI</th>\n",
       "    </tr>\n",
       "  </thead>\n",
       "  <tbody>\n",
       "    <tr>\n",
       "      <th>0</th>\n",
       "      <td>174.000000</td>\n",
       "      <td>26.4</td>\n",
       "      <td>35.0</td>\n",
       "      <td>79</td>\n",
       "      <td>25.0</td>\n",
       "      <td>107.6</td>\n",
       "      <td>0.9</td>\n",
       "      <td>0.7</td>\n",
       "      <td>149.000000</td>\n",
       "    </tr>\n",
       "    <tr>\n",
       "      <th>1</th>\n",
       "      <td>143.000000</td>\n",
       "      <td>35.1</td>\n",
       "      <td>40.3</td>\n",
       "      <td>75</td>\n",
       "      <td>31.0</td>\n",
       "      <td>103.0</td>\n",
       "      <td>0.9</td>\n",
       "      <td>0.9</td>\n",
       "      <td>129.000000</td>\n",
       "    </tr>\n",
       "    <tr>\n",
       "      <th>2</th>\n",
       "      <td>142.000000</td>\n",
       "      <td>32.1</td>\n",
       "      <td>30.9</td>\n",
       "      <td>59</td>\n",
       "      <td>26.0</td>\n",
       "      <td>80.7</td>\n",
       "      <td>0.8</td>\n",
       "      <td>0.5</td>\n",
       "      <td>128.000000</td>\n",
       "    </tr>\n",
       "    <tr>\n",
       "      <th>3</th>\n",
       "      <td>117.000000</td>\n",
       "      <td>50.9</td>\n",
       "      <td>36.3</td>\n",
       "      <td>75</td>\n",
       "      <td>36.0</td>\n",
       "      <td>79.5</td>\n",
       "      <td>0.9</td>\n",
       "      <td>0.7</td>\n",
       "      <td>111.000000</td>\n",
       "    </tr>\n",
       "    <tr>\n",
       "      <th>4</th>\n",
       "      <td>109.393939</td>\n",
       "      <td>41.6</td>\n",
       "      <td>25.2</td>\n",
       "      <td>53</td>\n",
       "      <td>28.0</td>\n",
       "      <td>70.0</td>\n",
       "      <td>0.5</td>\n",
       "      <td>0.5</td>\n",
       "      <td>105.571642</td>\n",
       "    </tr>\n",
       "  </tbody>\n",
       "</table>\n",
       "</div>"
      ],
      "text/plain": [
       "   PM10 in æg/m3  SO2 in æg/m3  NOx  in æg/m3   PM2.5  in æg/m3  \\\n",
       "0     174.000000          26.4           35.0                79   \n",
       "1     143.000000          35.1           40.3                75   \n",
       "2     142.000000          32.1           30.9                59   \n",
       "3     117.000000          50.9           36.3                75   \n",
       "4     109.393939          41.6           25.2                53   \n",
       "\n",
       "   Ammonia - NH3  in æg/m3  O3   in æg/m3  CO  in mg/m3   Benzene  in æg/m3  \\\n",
       "0                     25.0          107.6           0.9                 0.7   \n",
       "1                     31.0          103.0           0.9                 0.9   \n",
       "2                     26.0           80.7           0.8                 0.5   \n",
       "3                     36.0           79.5           0.9                 0.7   \n",
       "4                     28.0           70.0           0.5                 0.5   \n",
       "\n",
       "          AQI  \n",
       "0  149.000000  \n",
       "1  129.000000  \n",
       "2  128.000000  \n",
       "3  111.000000  \n",
       "4  105.571642  "
      ]
     },
     "execution_count": 16,
     "metadata": {},
     "output_type": "execute_result"
    }
   ],
   "source": [
    "df.head()"
   ]
  },
  {
   "cell_type": "markdown",
   "id": "481893bd",
   "metadata": {},
   "source": [
    "# outlier Detection"
   ]
  },
  {
   "cell_type": "code",
   "execution_count": 17,
   "id": "466f32f1",
   "metadata": {},
   "outputs": [
    {
     "name": "stderr",
     "output_type": "stream",
     "text": [
      "C:\\Users\\User\\anaconda3\\lib\\site-packages\\seaborn\\_decorators.py:36: FutureWarning: Pass the following variable as a keyword arg: x. From version 0.12, the only valid positional argument will be `data`, and passing other arguments without an explicit keyword will result in an error or misinterpretation.\n",
      "  warnings.warn(\n"
     ]
    },
    {
     "data": {
      "text/plain": [
       "<AxesSubplot:xlabel='AQI'>"
      ]
     },
     "execution_count": 17,
     "metadata": {},
     "output_type": "execute_result"
    },
    {
     "data": {
      "image/png": "[encoded data removed]",
      "text/plain": [
       "<Figure size 432x288 with 1 Axes>"
      ]
     },
     "metadata": {
      "needs_background": "light"
     },
     "output_type": "display_data"
    }
   ],
   "source": [
    "sns.boxplot(df.AQI)"
   ]
  },
  {
   "cell_type": "code",
   "execution_count": 18,
   "id": "3e0fa9e4",
   "metadata": {},
   "outputs": [],
   "source": [
    "q1=df.AQI.quantile(0.25)\n",
    "q3=df.AQI.quantile(0.75)"
   ]
  },
  {
   "cell_type": "code",
   "execution_count": 19,
   "id": "05c798e9",
   "metadata": {},
   "outputs": [
    {
     "data": {
      "text/plain": [
       "27.0"
      ]
     },
     "execution_count": 19,
     "metadata": {},
     "output_type": "execute_result"
    }
   ],
   "source": [
    "IQR=q3-q1\n",
    "IQR"
   ]
  },
  {
   "cell_type": "code",
   "execution_count": 20,
   "id": "54bca2ed",
   "metadata": {},
   "outputs": [],
   "source": [
    "upper_limit=q3+1.5*IQR\n",
    "lower_limit=q1-1.5*IQR"
   ]
  },
  {
   "cell_type": "code",
   "execution_count": 21,
   "id": "30be23ff",
   "metadata": {},
   "outputs": [
    {
     "data": {
      "text/plain": [
       "PM10 in æg/m3              105.50\n",
       "SO2 in æg/m3                14.10\n",
       "NOx  in æg/m3               29.75\n",
       " PM2.5  in æg/m3            47.00\n",
       "Ammonia - NH3  in æg/m3     23.00\n",
       "O3   in æg/m3               20.75\n",
       "CO  in mg/m3                 0.50\n",
       " Benzene  in æg/m3           0.20\n",
       "AQI                        104.50\n",
       "dtype: float64"
      ]
     },
     "execution_count": 21,
     "metadata": {},
     "output_type": "execute_result"
    }
   ],
   "source": [
    "df.median()"
   ]
  },
  {
   "cell_type": "code",
   "execution_count": 22,
   "id": "acc0fa96",
   "metadata": {},
   "outputs": [],
   "source": [
    "df['AQI']=np.where(df['AQI']>upper_limit,104,df['AQI'])\n"
   ]
  },
  {
   "cell_type": "code",
   "execution_count": 23,
   "id": "f7f572e9",
   "metadata": {},
   "outputs": [
    {
     "name": "stderr",
     "output_type": "stream",
     "text": [
      "C:\\Users\\User\\anaconda3\\lib\\site-packages\\seaborn\\_decorators.py:36: FutureWarning: Pass the following variable as a keyword arg: x. From version 0.12, the only valid positional argument will be `data`, and passing other arguments without an explicit keyword will result in an error or misinterpretation.\n",
      "  warnings.warn(\n"
     ]
    },
    {
     "data": {
      "text/plain": [
       "<AxesSubplot:xlabel='AQI'>"
      ]
     },
     "execution_count": 23,
     "metadata": {},
     "output_type": "execute_result"
    },
    {
     "data": {
      "image/png": "[encoded data removed]",
      "text/plain": [
       "<Figure size 432x288 with 1 Axes>"
      ]
     },
     "metadata": {
      "needs_background": "light"
     },
     "output_type": "display_data"
    }
   ],
   "source": [
    "sns.boxplot(df.AQI)"
   ]
  },
  {
   "cell_type": "code",
   "execution_count": 24,
   "id": "9b8aa9c1",
   "metadata": {},
   "outputs": [
    {
     "data": {
      "text/html": [
       "<div>\n",
       "<style scoped>\n",
       "    .dataframe tbody tr th:only-of-type {\n",
       "        vertical-align: middle;\n",
       "    }\n",
       "\n",
       "    .dataframe tbody tr th {\n",
       "        vertical-align: top;\n",
       "    }\n",
       "\n",
       "    .dataframe thead th {\n",
       "        text-align: right;\n",
       "    }\n",
       "</style>\n",
       "<table border=\"1\" class=\"dataframe\">\n",
       "  <thead>\n",
       "    <tr style=\"text-align: right;\">\n",
       "      <th></th>\n",
       "      <th>PM10 in æg/m3</th>\n",
       "      <th>SO2 in æg/m3</th>\n",
       "      <th>NOx  in æg/m3</th>\n",
       "      <th>PM2.5  in æg/m3</th>\n",
       "      <th>Ammonia - NH3  in æg/m3</th>\n",
       "      <th>O3   in æg/m3</th>\n",
       "      <th>CO  in mg/m3</th>\n",
       "      <th>Benzene  in æg/m3</th>\n",
       "    </tr>\n",
       "  </thead>\n",
       "  <tbody>\n",
       "    <tr>\n",
       "      <th>0</th>\n",
       "      <td>174.000000</td>\n",
       "      <td>26.4</td>\n",
       "      <td>35.0</td>\n",
       "      <td>79</td>\n",
       "      <td>25.0</td>\n",
       "      <td>107.6</td>\n",
       "      <td>0.9</td>\n",
       "      <td>0.7</td>\n",
       "    </tr>\n",
       "    <tr>\n",
       "      <th>1</th>\n",
       "      <td>143.000000</td>\n",
       "      <td>35.1</td>\n",
       "      <td>40.3</td>\n",
       "      <td>75</td>\n",
       "      <td>31.0</td>\n",
       "      <td>103.0</td>\n",
       "      <td>0.9</td>\n",
       "      <td>0.9</td>\n",
       "    </tr>\n",
       "    <tr>\n",
       "      <th>2</th>\n",
       "      <td>142.000000</td>\n",
       "      <td>32.1</td>\n",
       "      <td>30.9</td>\n",
       "      <td>59</td>\n",
       "      <td>26.0</td>\n",
       "      <td>80.7</td>\n",
       "      <td>0.8</td>\n",
       "      <td>0.5</td>\n",
       "    </tr>\n",
       "    <tr>\n",
       "      <th>3</th>\n",
       "      <td>117.000000</td>\n",
       "      <td>50.9</td>\n",
       "      <td>36.3</td>\n",
       "      <td>75</td>\n",
       "      <td>36.0</td>\n",
       "      <td>79.5</td>\n",
       "      <td>0.9</td>\n",
       "      <td>0.7</td>\n",
       "    </tr>\n",
       "    <tr>\n",
       "      <th>4</th>\n",
       "      <td>109.393939</td>\n",
       "      <td>41.6</td>\n",
       "      <td>25.2</td>\n",
       "      <td>53</td>\n",
       "      <td>28.0</td>\n",
       "      <td>70.0</td>\n",
       "      <td>0.5</td>\n",
       "      <td>0.5</td>\n",
       "    </tr>\n",
       "  </tbody>\n",
       "</table>\n",
       "</div>"
      ],
      "text/plain": [
       "   PM10 in æg/m3  SO2 in æg/m3  NOx  in æg/m3   PM2.5  in æg/m3  \\\n",
       "0     174.000000          26.4           35.0                79   \n",
       "1     143.000000          35.1           40.3                75   \n",
       "2     142.000000          32.1           30.9                59   \n",
       "3     117.000000          50.9           36.3                75   \n",
       "4     109.393939          41.6           25.2                53   \n",
       "\n",
       "   Ammonia - NH3  in æg/m3  O3   in æg/m3  CO  in mg/m3   Benzene  in æg/m3  \n",
       "0                     25.0          107.6           0.9                 0.7  \n",
       "1                     31.0          103.0           0.9                 0.9  \n",
       "2                     26.0           80.7           0.8                 0.5  \n",
       "3                     36.0           79.5           0.9                 0.7  \n",
       "4                     28.0           70.0           0.5                 0.5  "
      ]
     },
     "execution_count": 24,
     "metadata": {},
     "output_type": "execute_result"
    }
   ],
   "source": [
    "x=df.drop(columns=['AQI'],axis=1)\n",
    "x.head()"
   ]
  },
  {
   "cell_type": "code",
   "execution_count": 25,
   "id": "cb6c0d86",
   "metadata": {},
   "outputs": [
    {
     "data": {
      "text/plain": [
       "0    149.000000\n",
       "1    129.000000\n",
       "2    128.000000\n",
       "3    111.000000\n",
       "4    105.571642\n",
       "Name: AQI, dtype: float64"
      ]
     },
     "execution_count": 25,
     "metadata": {},
     "output_type": "execute_result"
    }
   ],
   "source": [
    "y=df.AQI\n",
    "y.head()"
   ]
  },
  {
   "cell_type": "code",
   "execution_count": 26,
   "id": "aa096d41",
   "metadata": {},
   "outputs": [],
   "source": [
    "from sklearn.model_selection import train_test_split\n",
    "xtrain,xtest,ytrain,ytest=train_test_split(x,y,test_size=0.2,random_state=0)"
   ]
  },
  {
   "cell_type": "code",
   "execution_count": 27,
   "id": "c2409aa9",
   "metadata": {},
   "outputs": [
    {
     "data": {
      "text/plain": [
       "((57, 8), (15, 8), (57,), (15,))"
      ]
     },
     "execution_count": 27,
     "metadata": {},
     "output_type": "execute_result"
    }
   ],
   "source": [
    "xtrain.shape,xtest.shape,ytrain.shape,ytest.shape"
   ]
  },
  {
   "cell_type": "code",
   "execution_count": 28,
   "id": "59e51f27",
   "metadata": {},
   "outputs": [
    {
     "data": {
      "text/plain": [
       "LinearRegression()"
      ]
     },
     "execution_count": 28,
     "metadata": {},
     "output_type": "execute_result"
    }
   ],
   "source": [
    "from sklearn.linear_model import LinearRegression\n",
    "lm=LinearRegression()\n",
    "lm.fit(xtrain,ytrain)"
   ]
  },
  {
   "cell_type": "code",
   "execution_count": 29,
   "id": "52240266",
   "metadata": {},
   "outputs": [],
   "source": [
    "y_pred=lm.predict(xtest)"
   ]
  },
  {
   "cell_type": "code",
   "execution_count": 30,
   "id": "0d92a505",
   "metadata": {},
   "outputs": [
    {
     "data": {
      "text/plain": [
       "array([103.26109953,  96.27993096, 116.88136486, 110.05993455,\n",
       "        91.067114  , 109.14445461,  88.48193092, 115.54239283,\n",
       "       122.06771534, 104.42713914,  81.07449687, 109.64805513,\n",
       "        97.82761289,  90.00949775,  96.8392365 ])"
      ]
     },
     "execution_count": 30,
     "metadata": {},
     "output_type": "execute_result"
    }
   ],
   "source": [
    "y_pred"
   ]
  },
  {
   "cell_type": "code",
   "execution_count": 31,
   "id": "02048d4e",
   "metadata": {},
   "outputs": [
    {
     "name": "stdout",
     "output_type": "stream",
     "text": [
      "Mean Squared Error: 169.23816896910893\n"
     ]
    }
   ],
   "source": [
    "from sklearn.metrics import mean_squared_error\n",
    "mse=mean_squared_error(ytest,y_pred)\n",
    "print(\"Mean Squared Error:\",mse)"
   ]
  },
  {
   "cell_type": "code",
   "execution_count": 32,
   "id": "27635ece",
   "metadata": {},
   "outputs": [
    {
     "name": "stdout",
     "output_type": "stream",
     "text": [
      "Root Mean Squared Error: 13.00915711985634\n"
     ]
    }
   ],
   "source": [
    "# Root Mean Squared Error\n",
    "import numpy as np\n",
    "from sklearn.metrics import mean_squared_error\n",
    "mse=mean_squared_error(ytest,y_pred)\n",
    "rmse=np.sqrt(mse)\n",
    "print('Root Mean Squared Error:',rmse)\n"
   ]
  },
  {
   "cell_type": "code",
   "execution_count": 33,
   "id": "36573272",
   "metadata": {},
   "outputs": [
    {
     "name": "stdout",
     "output_type": "stream",
     "text": [
      "Mean Absolute Error: 8.664986789664004\n"
     ]
    }
   ],
   "source": [
    "# Mean Absolute Error\n",
    "from sklearn.metrics import mean_absolute_error\n",
    "mae=mean_absolute_error(ytest,y_pred)\n",
    "print('Mean Absolute Error:', mae)"
   ]
  },
  {
   "cell_type": "code",
   "execution_count": 34,
   "id": "ed829e6d",
   "metadata": {},
   "outputs": [
    {
     "data": {
      "text/plain": [
       "RandomForestRegressor()"
      ]
     },
     "execution_count": 34,
     "metadata": {},
     "output_type": "execute_result"
    }
   ],
   "source": [
    "#Random forest regressor\n",
    "from sklearn.ensemble import RandomForestRegressor\n",
    "rf = RandomForestRegressor()\n",
    "rf.fit(xtrain,ytrain)\n"
   ]
  },
  {
   "cell_type": "code",
   "execution_count": 35,
   "id": "0318131e",
   "metadata": {},
   "outputs": [
    {
     "name": "stdout",
     "output_type": "stream",
     "text": [
      "Mean Squared Error: 108.25499982542485\n",
      "Root Mean Squared Error: 10.404566296844134\n",
      "Mean Absolute Error: 7.879835820895508\n"
     ]
    }
   ],
   "source": [
    "y_pred_2=rf.predict(xtest)\n",
    "#MEAN SQUARD ERROR\n",
    "from sklearn.metrics import mean_squared_error\n",
    "mse_2 = mean_squared_error(ytest, y_pred_2)\n",
    "print('Mean Squared Error:', mse_2)\n",
    "#ROOT MEAN SQUARED ERROR\n",
    "import numpy as np\n",
    "from sklearn.metrics import mean_squared_error\n",
    "mse_2= mean_squared_error(ytest, y_pred_2)\n",
    "rmse_2 = np.sqrt(mse_2)\n",
    "print('Root Mean Squared Error:', rmse_2)\n",
    "#MEAN ABSOLUTE ERROR\n",
    "from sklearn.metrics import mean_absolute_error\n",
    "mae_2 = mean_absolute_error(ytest, y_pred_2)\n",
    "print('Mean Absolute Error:', mae_2)\n"
   ]
  },
  {
   "cell_type": "code",
   "execution_count": 36,
   "id": "34df68b7",
   "metadata": {},
   "outputs": [],
   "source": [
    "#DECISION TREE REGRESSOR\n",
    "from sklearn.tree import DecisionTreeRegressor\n",
    "dt = DecisionTreeRegressor()\n",
    "dt.fit(xtrain, ytrain)\n",
    "y_pred_3 = dt.predict(xtest)"
   ]
  },
  {
   "cell_type": "code",
   "execution_count": 37,
   "id": "94593154",
   "metadata": {},
   "outputs": [
    {
     "name": "stdout",
     "output_type": "stream",
     "text": [
      "Mean Squared Error: 88.69524764238511\n",
      "Root Mean Squared Error: 9.41781543896381\n",
      "Mean Absolute Error: 7.191442786069652\n"
     ]
    }
   ],
   "source": [
    "# MEAN SQUARD ERROR\n",
    "from sklearn.metrics import mean_squared_error\n",
    "mse_3 = mean_squared_error(ytest, y_pred_3)\n",
    "print('Mean Squared Error:', mse_3)\n",
    "#ROOT MEAN SQUARED ERROR\n",
    "import numpy as np\n",
    "from sklearn.metrics import mean_squared_error\n",
    "mse_3= mean_squared_error(ytest, y_pred_3)\n",
    "rmse_3 = np.sqrt(mse_3)\n",
    "print('Root Mean Squared Error:', rmse_3)\n",
    "#MEAN ABSOLUTE ERROR\n",
    "from sklearn.metrics import mean_absolute_error\n",
    "mae_3 = mean_absolute_error(ytest, y_pred_3)\n",
    "print('Mean Absolute Error:', mae_3)"
   ]
  },
  {
   "cell_type": "code",
   "execution_count": 38,
   "id": "4fa0bdb5",
   "metadata": {},
   "outputs": [
    {
     "name": "stderr",
     "output_type": "stream",
     "text": [
      "C:\\Users\\User\\anaconda3\\lib\\site-packages\\xgboost\\compat.py:31: FutureWarning: pandas.Int64Index is deprecated and will be removed from pandas in a future version. Use pandas.Index with the appropriate dtype instead.\n",
      "  from pandas import MultiIndex, Int64Index\n",
      "C:\\Users\\User\\anaconda3\\lib\\site-packages\\xgboost\\data.py:192: FutureWarning: pandas.Int64Index is deprecated and will be removed from pandas in a future version. Use pandas.Index with the appropriate dtype instead.\n",
      "  from pandas import MultiIndex, Int64Index\n"
     ]
    }
   ],
   "source": [
    "#xg boost regressor\n",
    "import xgboost as xgb\n",
    "xgbr = xgb.XGBRegressor()\n",
    "xgbr.fit(xtrain, ytrain)\n",
    "y_pred_4= xgbr.predict(xtest)"
   ]
  },
  {
   "cell_type": "code",
   "execution_count": 39,
   "id": "c313cbf4",
   "metadata": {},
   "outputs": [
    {
     "name": "stdout",
     "output_type": "stream",
     "text": [
      "Mean Squared Error: 110.57677515867555\n",
      "Root Mean Squared Error: 10.515549208608913\n",
      "Mean Absolute Error: 8.110634867350262\n"
     ]
    }
   ],
   "source": [
    "#MEAN SQUARD ERROR\n",
    "from sklearn.metrics import mean_squared_error\n",
    "mse_4 = mean_squared_error(ytest, y_pred_4)\n",
    "print('Mean Squared Error:', mse_4)\n",
    "#ROOT MEAN SQUARED ERROR\n",
    "import numpy as np\n",
    "from sklearn.metrics import mean_squared_error\n",
    "mse_4= mean_squared_error(ytest, y_pred_4)\n",
    "rmse_4 = np.sqrt(mse_4)\n",
    "print('Root Mean Squared Error:', rmse_4)\n",
    "#MEAN ABSOLUTE ERROR\n",
    "from sklearn.metrics import mean_absolute_error\n",
    "mae_4= mean_absolute_error(ytest, y_pred_4)\n",
    "print('Mean Absolute Error:', mae_4)"
   ]
  },
  {
   "cell_type": "code",
   "execution_count": 40,
   "id": "92208770",
   "metadata": {},
   "outputs": [
    {
     "data": {
      "image/png": "[encoded data removed]",
      "text/plain": [
       "<Figure size 1080x432 with 1 Axes>"
      ]
     },
     "metadata": {
      "needs_background": "light"
     },
     "output_type": "display_data"
    }
   ],
   "source": [
    "#Some Basic Visualizations on Real World or Augmented Data\n",
    "plt.figure(figsize=(15,6))\n",
    "sns.scatterplot(x=df['AQI'],y=df['PM10 in æg/m3'])\n",
    "plt.show()"
   ]
  },
  {
   "cell_type": "code",
   "execution_count": null,
   "id": "a32e98b9",
   "metadata": {},
   "outputs": [],
   "source": []
  }
 ],
 "metadata": {
  "kernelspec": {
   "display_name": "Python 3",
   "language": "python",
   "name": "python3"
  },
  "language_info": {
   "codemirror_mode": {
    "name": "ipython",
    "version": 3
   },
   "file_extension": ".py",
   "mimetype": "text/x-python",
   "name": "python",
   "nbconvert_exporter": "python",
   "pygments_lexer": "ipython3",
   "version": "3.8.8"
  }
 },
 "nbformat": 4,
 "nbformat_minor": 5
}
